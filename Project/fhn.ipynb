{
 "cells": [
  {
   "cell_type": "code",
   "execution_count": 80,
   "metadata": {},
   "outputs": [],
   "source": [
    "from brian2 import *"
   ]
  },
  {
   "cell_type": "code",
   "execution_count": 81,
   "metadata": {},
   "outputs": [],
   "source": [
    "#El = None\n",
    "#gl = None\n",
    "main_eq = '''\n",
    "dv/dt = (1/Cm)*(-gl * (El - v) - INa - IKd - Im - It - Il) : volt\n",
    "'''\n",
    "\n",
    "#gNa = 50*msiemens/cm**2\n",
    "#ENa = 50*mV\n",
    "eq_Na = '''\n",
    "INa = gNa * m**3 * h * (v - ENa) : amp\n",
    "dm/dt = alpham * (1-m) - betam * m : 1\n",
    "dh/dt = alphah * (1-h) - betah * h : 1\n",
    "alpham = (-0.32 / mV) * (v - vt - 13*mV) / (exp(-(v - vt - 13*mV)/(4*mV)) - 1) / ms : Hz\n",
    "betam = (0.28 / mV) * (v - vt - 40*mV) / (exp((v - vt - 40*mV)/(5*mV)) - 1) / ms : Hz\n",
    "alphah = (0.128 / mV) * exp(-(v - vt - 17*mV)/(18*mV)) : Hz\n",
    "betah = 4 / (1 + exp(-(v - vt - 40*mV)/(5*mV))) : Hz\n",
    "'''\n",
    "\n",
    "#gKd = 5*msiemens/cm**2\n",
    "#EK = - 90*mV\n",
    "eq_Kd = '''\n",
    "IKd = gKd * n**4 * (v - EK) : amp\n",
    "dn/dt = alphan * (1-n) - betan * n : 1\n",
    "alphan = (-0.32 / mV) * (v - vt - 15*mV)/(exp(-(v - vt - 15*mV)/(5*mV)) - 1) / ms : Hz\n",
    "betan = 0.5 * exp(-(v - vt - 10)/(40*mV)) : Hz\n",
    "'''\n",
    "\n",
    "#gM = 0.004*msiemens/cm**2\n",
    "#taumax = 4*second\n",
    "eq_m = '''\n",
    "Im = gM * p * (v - EK) : amp\n",
    "dp/dt = (pinf - p)/(taup) : 1\n",
    "pinf = 1/(1 + exp(-(v + 35*mV)/10*mV)) : 1\n",
    "taup = taumax / (3.3 * exp((v + 35*mV)/(20*mV)) + exp(-(v + 35*mV)/(20*mV))) : second\n",
    "'''\n",
    "\n",
    "#gL = None\n",
    "#ECa = 120*mV\n",
    "eq_l = '''\n",
    "Il = gL * q**2 * r * (v - ECa) : amp\n",
    "dq/dt = alphaq * (1-q) - betaq * q : 1\n",
    "dr/dt = alphar * (1-r) - betar * r : 1\n",
    "alphaq = (0.055 / mV) * (-27*mV - v) / (exp((-27*mV - v)/(3.8*mV)) - 1) / ms : Hz\n",
    "betaq = 0.94 * exp((-75*mV - v)/(17*mV)) / ms : Hz\n",
    "alphar = 0.000457 * exp((-13*mV - v)/(50*mV)) / ms : Hz\n",
    "betar = 0.0065 / (exp((-15*mV - v)/(28*mV)) + 1) / ms : Hz\n",
    "'''\n",
    "\n",
    "#vx = 2*mV\n",
    "eq_t = '''\n",
    "It = gT * s**2 * u * (v - ECa) : amp\n",
    "du/dt = (uinf - u) / tauu : 1\n",
    "s = 1 / (1 + exp(-(v + vx + 57*mV)/(6.2*mV))) : 1\n",
    "u = 1 / (1 + exp((v + vx + 81*mV)/(4*mV))) : 1\n",
    "tauu = (242.2 + exp((v + vx + 113.2*mV)/(5*mV))) / (3.7 * (1 + exp((v + vx + 84*mV)/(3.2*mV)))) * second : second\n",
    "'''\n"
   ]
  },
  {
   "cell_type": "code",
   "execution_count": 104,
   "metadata": {},
   "outputs": [
    {
     "ename": "TypeError",
     "evalue": "The transmembrane current Im must be defined",
     "output_type": "error",
     "traceback": [
      "\u001b[0;31m---------------------------------------------------------------------------\u001b[0m",
      "\u001b[0;31mTypeError\u001b[0m                                 Traceback (most recent call last)",
      "\u001b[1;32m/Users/abhinavmenon/Desktop/IIIT/monsoon22-NCM/Project/fhn.ipynb Cell 3\u001b[0m in \u001b[0;36m<cell line: 31>\u001b[0;34m()\u001b[0m\n\u001b[1;32m     <a href='vscode-notebook-cell:/Users/abhinavmenon/Desktop/IIIT/monsoon22-NCM/Project/fhn.ipynb#X10sZmlsZQ%3D%3D?line=10'>11</a>\u001b[0m eqs\u001b[39m=\u001b[39m\u001b[39m'''\u001b[39m\n\u001b[1;32m     <a href='vscode-notebook-cell:/Users/abhinavmenon/Desktop/IIIT/monsoon22-NCM/Project/fhn.ipynb#X10sZmlsZQ%3D%3D?line=11'>12</a>\u001b[0m \u001b[39mdv/dt = (1/Cm)*(-gl * (El - v) - INa) : volt\u001b[39m\n\u001b[1;32m     <a href='vscode-notebook-cell:/Users/abhinavmenon/Desktop/IIIT/monsoon22-NCM/Project/fhn.ipynb#X10sZmlsZQ%3D%3D?line=12'>13</a>\u001b[0m \u001b[39mINa = gNa * m**3 * h * (v - ENa) : amp\u001b[39m\n\u001b[0;32m   (...)\u001b[0m\n\u001b[1;32m     <a href='vscode-notebook-cell:/Users/abhinavmenon/Desktop/IIIT/monsoon22-NCM/Project/fhn.ipynb#X10sZmlsZQ%3D%3D?line=26'>27</a>\u001b[0m \u001b[39m#taup = taumax / (3.3 * exp((v + 35*mV)/(20*mV)) + exp(-(v + 35*mV)/(20*mV))) : second\u001b[39m\n\u001b[1;32m     <a href='vscode-notebook-cell:/Users/abhinavmenon/Desktop/IIIT/monsoon22-NCM/Project/fhn.ipynb#X10sZmlsZQ%3D%3D?line=27'>28</a>\u001b[0m \u001b[39m'''\u001b[39m\n\u001b[1;32m     <a href='vscode-notebook-cell:/Users/abhinavmenon/Desktop/IIIT/monsoon22-NCM/Project/fhn.ipynb#X10sZmlsZQ%3D%3D?line=29'>30</a>\u001b[0m morpho \u001b[39m=\u001b[39m Cylinder(length\u001b[39m=\u001b[39m\u001b[39m96\u001b[39m\u001b[39m*\u001b[39mum, diameter\u001b[39m=\u001b[39m\u001b[39m96\u001b[39m\u001b[39m*\u001b[39mum, \u001b[39mtype\u001b[39m\u001b[39m=\u001b[39m\u001b[39m'\u001b[39m\u001b[39maxon\u001b[39m\u001b[39m'\u001b[39m)\n\u001b[0;32m---> <a href='vscode-notebook-cell:/Users/abhinavmenon/Desktop/IIIT/monsoon22-NCM/Project/fhn.ipynb#X10sZmlsZQ%3D%3D?line=30'>31</a>\u001b[0m neuron \u001b[39m=\u001b[39m SpatialNeuron(morphology\u001b[39m=\u001b[39;49mmorpho, model\u001b[39m=\u001b[39;49meqs,\n\u001b[1;32m     <a href='vscode-notebook-cell:/Users/abhinavmenon/Desktop/IIIT/monsoon22-NCM/Project/fhn.ipynb#X10sZmlsZQ%3D%3D?line=31'>32</a>\u001b[0m                        method\u001b[39m=\u001b[39;49m\u001b[39m\"\u001b[39;49m\u001b[39mexponential_euler\u001b[39;49m\u001b[39m\"\u001b[39;49m)\n",
      "File \u001b[0;32m~/opt/anaconda3/lib/python3.9/site-packages/brian2/spatialneuron/spatialneuron.py:282\u001b[0m, in \u001b[0;36mSpatialNeuron.__init__\u001b[0;34m(self, morphology, model, threshold, refractory, reset, events, threshold_location, dt, clock, order, Cm, Ri, name, dtype, namespace, method, method_options)\u001b[0m\n\u001b[1;32m    280\u001b[0m     membrane_expr \u001b[39m=\u001b[39m model[\u001b[39m'\u001b[39m\u001b[39mIm\u001b[39m\u001b[39m'\u001b[39m]\u001b[39m.\u001b[39mexpr  \u001b[39m# the membrane equation\u001b[39;00m\n\u001b[1;32m    281\u001b[0m \u001b[39melse\u001b[39;00m:\n\u001b[0;32m--> 282\u001b[0m     \u001b[39mraise\u001b[39;00m \u001b[39mTypeError\u001b[39;00m(\u001b[39m'\u001b[39m\u001b[39mThe transmembrane current Im must be defined\u001b[39m\u001b[39m'\u001b[39m)\n\u001b[1;32m    284\u001b[0m model_equations \u001b[39m=\u001b[39m []\n\u001b[1;32m    285\u001b[0m \u001b[39m# Insert point currents in the membrane equation\u001b[39;00m\n",
      "\u001b[0;31mTypeError\u001b[0m: The transmembrane current Im must be defined"
     ]
    }
   ],
   "source": [
    "## Regular Spiking Neurons (1)\n",
    "start_scope()\n",
    "gl = 0.0004*msiemens/cm**2\n",
    "El = -70*mV\n",
    "gNa = 0.05*msiemens/cm**2\n",
    "gKd = 0.005*msiemens/cm**2\n",
    "gM = 0.00007*msiemens/cm**2\n",
    "vt = -65*mV\n",
    "Cm = 0.29*nF\n",
    "\n",
    "eqs='''\n",
    "dv/dt = (1/Cm)*(-gl * (El - v) - INa) : volt\n",
    "INa = gNa * m**3 * h * (v - ENa) : amp\n",
    "#dm/dt = alpham * (1-m) - betam * m : 1\n",
    "#dh/dt = alphah * (1-h) - betah * h : 1\n",
    "#alpham = (-0.32 / mV) * (v - vt - 13*mV) / (exp(-(v - vt - 13*mV)/(4*mV)) - 1) / ms : Hz\n",
    "#betam = (0.28 / mV) * (v - vt - 40*mV) / (exp((v - vt - 40*mV)/(5*mV)) - 1) / ms : Hz\n",
    "#alphah = (0.128 / mV) * exp(-(v - vt - 17*mV)/(18*mV)) : Hz\n",
    "#betah = 4 / (1 + exp(-(v - vt - 40*mV)/(5*mV))) : Hz\n",
    "#IKd = gKd * n**4 * (v - EK) : amp\n",
    "#dn/dt = alphan * (1-n) - betan * n : 1\n",
    "#alphan = (-0.32 / mV) * (v - vt - 15*mV)/(exp(-(v - vt - 15*mV)/(5*mV)) - 1) / ms : Hz\n",
    "#betan = 0.5 * exp(-(v - vt - 10)/(40*mV)) : Hz\n",
    "#Im = gM * p * (v - EK) : amp\n",
    "#dp/dt = (pinf - p)/(taup) : 1\n",
    "#pinf = 1/(1 + exp(-(v + 35*mV)/10*mV)) : 1\n",
    "#taup = taumax / (3.3 * exp((v + 35*mV)/(20*mV)) + exp(-(v + 35*mV)/(20*mV))) : second\n",
    "'''\n",
    "\n",
    "morpho = Cylinder(length=96*um, diameter=96*um, type='axon')\n",
    "neuron = SpatialNeuron(morphology=morpho, model=eqs,\n",
    "                       method=\"exponential_euler\")"
   ]
  },
  {
   "cell_type": "code",
   "execution_count": null,
   "metadata": {},
   "outputs": [],
   "source": [
    "M = StateMonitor(neuron, 'v', record=True)\n",
    "\n",
    "#run(50*ms, report='text')\n",
    "\n",
    "neuron.I[0] = 0.5*nA  # current injection at one end\n",
    "run(1000*ms)\n",
    "plot(M.t/ms, M.v[0]/mV)\n",
    "xlabel('Time (ms)')\n",
    "ylabel('Voltage (mV)');"
   ]
  },
  {
   "cell_type": "code",
   "execution_count": null,
   "metadata": {},
   "outputs": [],
   "source": [
    "#start_scope()\n",
    "#neuron.v = 0*mV\n",
    "#neuron.h = 1\n",
    "#neuron.m = 0\n",
    "#neuron.n = .5\n",
    "#neuron.I = 0\n",
    "#neuron[5*cm:10*cm].gNa = 0*siemens/cm**2"
   ]
  },
  {
   "cell_type": "code",
   "execution_count": null,
   "metadata": {},
   "outputs": [
    {
     "data": {
      "image/png": "[encoded data removed]",
      "text/plain": [
       "<Figure size 640x480 with 1 Axes>"
      ]
     },
     "metadata": {},
     "output_type": "display_data"
    }
   ],
   "source": [
    "M = StateMonitor(neuron, 'v', record=True)\n",
    "\n",
    "#run(50*ms, report='text')\n",
    "\n",
    "neuron.I[0] = 1*uA  # current injection at one end\n",
    "run(50*ms)\n",
    "plot(M.t/ms, M.v[0]/mV)\n",
    "xlabel('Time (ms)')\n",
    "ylabel('Voltage (mV)');"
   ]
  }
 ],
 "metadata": {
  "kernelspec": {
   "display_name": "Python 3.9.12 ('base')",
   "language": "python",
   "name": "python3"
  },
  "language_info": {
   "codemirror_mode": {
    "name": "ipython",
    "version": 3
   },
   "file_extension": ".py",
   "mimetype": "text/x-python",
   "name": "python",
   "nbconvert_exporter": "python",
   "pygments_lexer": "ipython3",
   "version": "3.9.12"
  },
  "orig_nbformat": 4,
  "vscode": {
   "interpreter": {
    "hash": "0b852ccbab1a67a519c1e039e6d369c79191adf9a4cc15caadfc7300be0b7c6d"
   }
  }
 },
 "nbformat": 4,
 "nbformat_minor": 2
}
