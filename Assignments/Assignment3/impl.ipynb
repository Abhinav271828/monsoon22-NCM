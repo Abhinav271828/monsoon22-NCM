{
 "cells": [
  {
   "cell_type": "code",
   "execution_count": 8,
   "metadata": {},
   "outputs": [],
   "source": [
    "import brian2\n",
    "from brian2.units import *\n",
    "import numpy as np\n",
    "import matplotlib.pyplot as plt\n",
    "from math import dist"
   ]
  },
  {
   "cell_type": "code",
   "execution_count": 9,
   "metadata": {},
   "outputs": [],
   "source": [
    "brian2.prefs.codegen.target = \"numpy\""
   ]
  },
  {
   "cell_type": "code",
   "execution_count": 3,
   "metadata": {},
   "outputs": [],
   "source": [
    "def D(i, j):\n",
    "    i_pos = ((int)(i / 45), (i / 15) % 3, i % 15)\n",
    "    j_pos = ((int)(j / 45), (j / 15) % 3, j % 15)\n",
    "    return (dist(i_pos, j_pos))"
   ]
  },
  {
   "cell_type": "code",
   "execution_count": 28,
   "metadata": {},
   "outputs": [
    {
     "data": {
      "text/plain": [
       "\"\\nuse S.a = 'rand()', S.u = '...' for initial values\\n\""
      ]
     },
     "execution_count": 28,
     "metadata": {},
     "output_type": "execute_result"
    }
   ],
   "source": [
    "brian2.start_scope()\n",
    "\n",
    "tau_m = 30 * ms\n",
    "R = 1 * Mohm\n",
    "I_b = 13.5 * namp\n",
    "G_1 = brian2.NeuronGroup(27, 'dv/dt = ( - v + R * I_b) / tau_m : volt',\n",
    "                         threshold='v > 15*mV',\n",
    "                         reset='v = 13.50*mV',\n",
    "                         refractory='2 * ms',\n",
    "                         method='euler')\n",
    "G_2 = brian2.NeuronGroup(108, 'dv/dt = ( - v + 1 * Mohm * 13.56 * namp) / tau_m : volt',\n",
    "                         threshold='v > 15*mV',\n",
    "                         reset='v = 13.50*mV',\n",
    "                         refractory='3 * ms',\n",
    "                         method='euler')\n",
    "\n",
    "lmbd = 1\n",
    "synapse_model = '''u : 1\n",
    "                   U : 1\n",
    "                   d : second\n",
    "                   f : second\n",
    "                   r : 1\n",
    "                   a : amp\n",
    "                   lastupdate : second'''\n",
    "synapse_on_pre = '''deltat = t - lastupdate\n",
    "                    u_exp = u * exp(- deltat/f)\n",
    "                    r_exp = exp(-deltat/d)\n",
    "                    u = u_exp + U * (1 - u_exp)\n",
    "                    r = r * (1 - u) * r_exp + 1 - r_exp\n",
    "                    v_post += a * r * u * ohm\n",
    "                    lastupdate = t'''\n",
    "#D = lambda i, j : dist(((i // 45), (i // 15) % 3, i % 15), ((j // 45), (j // 15) % 3, j % 15))\n",
    "cond_exp = f' * exp(-(1.0/{lmbd}) ** 2)'\n",
    "\n",
    "S_exc_exc = brian2.Synapses(G_2, G_2,\n",
    "                            model=synapse_model,\n",
    "                            on_pre=synapse_on_pre,\n",
    "                            delay=1.5*ms)\n",
    "S_exc_exc.connect(condition=True,\n",
    "                  p = '0.3' + cond_exp)\n",
    "\n",
    "S_exc_inh = brian2.Synapses(G_2, G_1,\n",
    "                            model=synapse_model,\n",
    "                            on_pre=synapse_on_pre,\n",
    "                            delay=0.8*ms)\n",
    "S_exc_inh.connect(condition=True,\n",
    "                  p = '0.2' + cond_exp)\n",
    "\n",
    "S_inh_exc = brian2.Synapses(G_1, G_2,\n",
    "                            model=synapse_model,\n",
    "                            on_pre=synapse_on_pre,\n",
    "                            delay=0.8*ms)\n",
    "S_inh_exc.connect(condition=True,\n",
    "                  p = '0.4' + cond_exp)\n",
    "\n",
    "S_inh_inh = brian2.Synapses(G_1, G_1,\n",
    "                            model=synapse_model,\n",
    "                            on_pre=synapse_on_pre,\n",
    "                            delay=0.8*ms)\n",
    "S_inh_inh.connect(condition=True,\n",
    "                  p = '0.1' + cond_exp)"
   ]
  },
  {
   "cell_type": "code",
   "execution_count": 34,
   "metadata": {},
   "outputs": [
    {
     "data": {
      "text/plain": [
       "<spikemonitor_2.v: array([], dtype=float64) * volt>"
      ]
     },
     "execution_count": 34,
     "metadata": {},
     "output_type": "execute_result"
    }
   ],
   "source": [
    "M = brian2.SpikeMonitor(G_2, variables=['v'])\n",
    "brian2.run(1000 * ms)\n",
    "M.v"
   ]
  }
 ],
 "metadata": {
  "kernelspec": {
   "display_name": "Python 3.9.12 ('base')",
   "language": "python",
   "name": "python3"
  },
  "language_info": {
   "codemirror_mode": {
    "name": "ipython",
    "version": 3
   },
   "file_extension": ".py",
   "mimetype": "text/x-python",
   "name": "python",
   "nbconvert_exporter": "python",
   "pygments_lexer": "ipython3",
   "version": "3.9.12"
  },
  "orig_nbformat": 4,
  "vscode": {
   "interpreter": {
    "hash": "0b852ccbab1a67a519c1e039e6d369c79191adf9a4cc15caadfc7300be0b7c6d"
   }
  }
 },
 "nbformat": 4,
 "nbformat_minor": 2
}
